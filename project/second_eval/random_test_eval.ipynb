{
 "cells": [
  {
   "cell_type": "code",
   "execution_count": 1,
   "metadata": {},
   "outputs": [],
   "source": [
    "import numpy as np\n",
    "import matplotlib.pyplot as plt\n",
    "import os\n",
    "import seaborn as sns\n",
    "from collections import defaultdict, Counter\n",
    "import re"
   ]
  },
  {
   "cell_type": "code",
   "execution_count": 2,
   "metadata": {},
   "outputs": [],
   "source": [
    "switch_router = {'s1':'r1 r2', 's2':'r2 r3', 's3':'r3 r4', 's4':'r4 r5', 's5':'r5 r6', 's6':'r6 r1', 's7':'r7 r8',\n",
    "                's8':'r8 r9', 's9':'r9 r10', 's10':'r10 r7', 's11':'r1 r8', 's12':'r3 r8', 's13':'r3 r9',\n",
    "                's14':'r4 r10', 's15':'r6 r10', 's16':'r6 r7'}\n",
    "FILES_DIR = './'"
   ]
  },
  {
   "cell_type": "code",
   "execution_count": 3,
   "metadata": {},
   "outputs": [],
   "source": [
    "dir_content = os.listdir(FILES_DIR)\n",
    "predictions = sorted([f for f in dir_content if 'loss_' in f])\n",
    "mininet_dumps = sorted([f for f in dir_content if 'mininet_dump_' in f])"
   ]
  },
  {
   "cell_type": "code",
   "execution_count": 31,
   "metadata": {},
   "outputs": [],
   "source": [
    "def get_path(line):\n",
    "    path = line.split(':')[1]\n",
    "    path = re.sub('[\\'\\[\\],]','', path)#.split()\n",
    "    return path\n",
    "\n",
    "# string with the mininet dump containing the loss of each interface on the switches\n",
    "def get_link_w_loss(mn_loss):\n",
    "    step = 7\n",
    "    idx = np.arange(0,len(mn_loss.split()), step)\n",
    "    losses = [mn_loss.split()[i:i+step] for i in idx]\n",
    "    for l in losses:\n",
    "        if l[2]!= '0%':\n",
    "            print(l)\n",
    "    print()\n",
    "    \n",
    "def print_counter(dic):\n",
    "    for k, i in dic.items():\n",
    "        print(k, Counter(i))\n",
    "    print()"
   ]
  },
  {
   "cell_type": "code",
   "execution_count": 32,
   "metadata": {
    "scrolled": false
   },
   "outputs": [
    {
     "name": "stdout",
     "output_type": "stream",
     "text": [
      "['s4', '(300.00Mbit', '5%', 'loss)', '(300.00Mbit', '5%', 'loss)']\n",
      "['s7', '(300.00Mbit', '5%', 'loss)', '(300.00Mbit', '5%', 'loss)']\n",
      "['s11', '(300.00Mbit', '5%', 'loss)', '(300.00Mbit', '5%', 'loss)']\n",
      "['s12', '(300.00Mbit', '5%', 'loss)', '(300.00Mbit', '5%', 'loss)']\n",
      "['s15', '(300.00Mbit', '5%', 'loss)', '(300.00Mbit', '5%', 'loss)']\n",
      "\n",
      "['s2', '(300.00Mbit', '5%', 'loss)', '(300.00Mbit', '5%', 'loss)']\n",
      "['s3', '(300.00Mbit', '5%', 'loss)', '(300.00Mbit', '5%', 'loss)']\n",
      "['s6', '(300.00Mbit', '5%', 'loss)', '(300.00Mbit', '5%', 'loss)']\n",
      "['s9', '(300.00Mbit', '5%', 'loss)', '(300.00Mbit', '5%', 'loss)']\n",
      "['s11', '(300.00Mbit', '5%', 'loss)', '(300.00Mbit', '5%', 'loss)']\n",
      "\n",
      "['s1', '(300.00Mbit', '5%', 'loss)', '(300.00Mbit', '5%', 'loss)']\n",
      "['s2', '(300.00Mbit', '5%', 'loss)', '(300.00Mbit', '5%', 'loss)']\n",
      "['s5', '(300.00Mbit', '5%', 'loss)', '(300.00Mbit', '5%', 'loss)']\n",
      "['s7', '(300.00Mbit', '5%', 'loss)', '(300.00Mbit', '5%', 'loss)']\n",
      "['s8', '(300.00Mbit', '5%', 'loss)', '(300.00Mbit', '5%', 'loss)']\n",
      "['s9', '(300.00Mbit', '5%', 'loss)', '(300.00Mbit', '5%', 'loss)']\n",
      "['s11', '(300.00Mbit', '5%', 'loss)', '(300.00Mbit', '5%', 'loss)']\n",
      "\n",
      "['s4', '(300.00Mbit', '5%', 'loss)', '(300.00Mbit', '5%', 'loss)']\n",
      "['s7', '(300.00Mbit', '5%', 'loss)', '(300.00Mbit', '5%', 'loss)']\n",
      "['s8', '(300.00Mbit', '5%', 'loss)', '(300.00Mbit', '5%', 'loss)']\n",
      "['s11', '(300.00Mbit', '5%', 'loss)', '(300.00Mbit', '5%', 'loss)']\n",
      "['s12', '(300.00Mbit', '5%', 'loss)', '(300.00Mbit', '5%', 'loss)']\n",
      "['s13', '(300.00Mbit', '5%', 'loss)', '(300.00Mbit', '5%', 'loss)']\n",
      "['s15', '(300.00Mbit', '5%', 'loss)', '(300.00Mbit', '5%', 'loss)']\n",
      "['s16', '(300.00Mbit', '5%', 'loss)', '(300.00Mbit', '5%', 'loss)']\n",
      "\n",
      "['s2', '(300.00Mbit', '5%', 'loss)', '(300.00Mbit', '5%', 'loss)']\n",
      "['s3', '(300.00Mbit', '5%', 'loss)', '(300.00Mbit', '5%', 'loss)']\n",
      "['s4', '(300.00Mbit', '5%', 'loss)', '(300.00Mbit', '5%', 'loss)']\n",
      "['s5', '(300.00Mbit', '5%', 'loss)', '(300.00Mbit', '5%', 'loss)']\n",
      "['s11', '(300.00Mbit', '5%', 'loss)', '(300.00Mbit', '5%', 'loss)']\n",
      "['s14', '(300.00Mbit', '5%', 'loss)', '(300.00Mbit', '5%', 'loss)']\n",
      "['s15', '(300.00Mbit', '5%', 'loss)', '(300.00Mbit', '5%', 'loss)']\n",
      "['s16', '(300.00Mbit', '5%', 'loss)', '(300.00Mbit', '5%', 'loss)']\n",
      "\n",
      "['s1', '(300.00Mbit', '5%', 'loss)', '(300.00Mbit', '5%', 'loss)']\n",
      "['s3', '(300.00Mbit', '5%', 'loss)', '(300.00Mbit', '5%', 'loss)']\n",
      "['s6', '(300.00Mbit', '5%', 'loss)', '(300.00Mbit', '5%', 'loss)']\n",
      "['s7', '(300.00Mbit', '5%', 'loss)', '(300.00Mbit', '5%', 'loss)']\n",
      "['s9', '(300.00Mbit', '5%', 'loss)', '(300.00Mbit', '5%', 'loss)']\n",
      "['s11', '(300.00Mbit', '5%', 'loss)', '(300.00Mbit', '5%', 'loss)']\n",
      "['s13', '(300.00Mbit', '5%', 'loss)', '(300.00Mbit', '5%', 'loss)']\n",
      "\n",
      "['s1', '(300.00Mbit', '5%', 'loss)', '(300.00Mbit', '5%', 'loss)']\n",
      "['s4', '(300.00Mbit', '5%', 'loss)', '(300.00Mbit', '5%', 'loss)']\n",
      "['s5', '(300.00Mbit', '5%', 'loss)', '(300.00Mbit', '5%', 'loss)']\n",
      "['s6', '(300.00Mbit', '5%', 'loss)', '(300.00Mbit', '5%', 'loss)']\n",
      "['s7', '(300.00Mbit', '5%', 'loss)', '(300.00Mbit', '5%', 'loss)']\n",
      "['s10', '(300.00Mbit', '5%', 'loss)', '(300.00Mbit', '5%', 'loss)']\n",
      "['s11', '(300.00Mbit', '5%', 'loss)', '(300.00Mbit', '5%', 'loss)']\n",
      "['s12', '(300.00Mbit', '5%', 'loss)', '(300.00Mbit', '5%', 'loss)']\n",
      "['s13', '(300.00Mbit', '5%', 'loss)', '(300.00Mbit', '5%', 'loss)']\n",
      "['s15', '(300.00Mbit', '5%', 'loss)', '(300.00Mbit', '5%', 'loss)']\n",
      "\n",
      "['s2', '(300.00Mbit', '5%', 'loss)', '(300.00Mbit', '5%', 'loss)']\n",
      "['s3', '(300.00Mbit', '5%', 'loss)', '(300.00Mbit', '5%', 'loss)']\n",
      "['s4', '(300.00Mbit', '5%', 'loss)', '(300.00Mbit', '5%', 'loss)']\n",
      "['s6', '(300.00Mbit', '5%', 'loss)', '(300.00Mbit', '5%', 'loss)']\n",
      "['s7', '(300.00Mbit', '5%', 'loss)', '(300.00Mbit', '5%', 'loss)']\n",
      "['s9', '(300.00Mbit', '5%', 'loss)', '(300.00Mbit', '5%', 'loss)']\n",
      "['s10', '(300.00Mbit', '5%', 'loss)', '(300.00Mbit', '5%', 'loss)']\n",
      "['s13', '(300.00Mbit', '5%', 'loss)', '(300.00Mbit', '5%', 'loss)']\n",
      "['s15', '(300.00Mbit', '5%', 'loss)', '(300.00Mbit', '5%', 'loss)']\n",
      "\n",
      "['s2', '(300.00Mbit', '5%', 'loss)', '(300.00Mbit', '5%', 'loss)']\n",
      "['s4', '(300.00Mbit', '5%', 'loss)', '(300.00Mbit', '5%', 'loss)']\n",
      "['s5', '(300.00Mbit', '5%', 'loss)', '(300.00Mbit', '5%', 'loss)']\n",
      "['s7', '(300.00Mbit', '5%', 'loss)', '(300.00Mbit', '5%', 'loss)']\n",
      "['s8', '(300.00Mbit', '5%', 'loss)', '(300.00Mbit', '5%', 'loss)']\n",
      "['s9', '(300.00Mbit', '5%', 'loss)', '(300.00Mbit', '5%', 'loss)']\n",
      "['s10', '(300.00Mbit', '5%', 'loss)', '(300.00Mbit', '5%', 'loss)']\n",
      "['s12', '(300.00Mbit', '5%', 'loss)', '(300.00Mbit', '5%', 'loss)']\n",
      "['s13', '(300.00Mbit', '5%', 'loss)', '(300.00Mbit', '5%', 'loss)']\n",
      "['s14', '(300.00Mbit', '5%', 'loss)', '(300.00Mbit', '5%', 'loss)']\n",
      "['s15', '(300.00Mbit', '5%', 'loss)', '(300.00Mbit', '5%', 'loss)']\n",
      "['s16', '(300.00Mbit', '5%', 'loss)', '(300.00Mbit', '5%', 'loss)']\n",
      "\n",
      "******************************\n"
     ]
    }
   ],
   "source": [
    "for pr, mn in zip(predictions, mininet_dumps):\n",
    "    ospf = {}\n",
    "    pred = defaultdict(list)\n",
    "    link_loss='********'\n",
    "    with open(os.path.join(FILES_DIR, pr), 'r') as pr_f, open(os.path.join(FILES_DIR, mn), 'r') as mn_f:\n",
    "        for i,line in enumerate(pr_f):\n",
    "            line = line.strip()\n",
    "            if 'ITERATION' in line:\n",
    "                # starting new iteration\n",
    "                if ospf and pred:\n",
    "                    #print(ospf)\n",
    "                    get_link_w_loss(link_loss)\n",
    "                    #print_counter(pred)\n",
    "                ospf = {}\n",
    "                pred = defaultdict(list)\n",
    "                # getting the link loss\n",
    "                link_loss = mn_f.readline().strip()\n",
    "                while '*' in link_loss:\n",
    "                    link_loss = mn_f.readline().strip()\n",
    "                \n",
    "            # matching the target of the prediction\n",
    "            elif re.match('r(\\d+)_(\\d+)_(\\d+)_(\\d+)_(\\d+)', line):\n",
    "                target = line\n",
    "            \n",
    "            elif 'prediction' in line:\n",
    "                pred[target].append(get_path(line))\n",
    "            \n",
    "            elif 'ospf' in line:\n",
    "                if target not in ospf:\n",
    "                    ospf[target]=get_path(line)\n",
    "            else:\n",
    "                pass\n",
    "        #print_counter(pred)\n",
    "        print('*'*30)\n",
    "        break\n"
   ]
  },
  {
   "cell_type": "code",
   "execution_count": null,
   "metadata": {
    "collapsed": true
   },
   "outputs": [],
   "source": []
  },
  {
   "cell_type": "code",
   "execution_count": null,
   "metadata": {
    "collapsed": true
   },
   "outputs": [],
   "source": []
  }
 ],
 "metadata": {
  "kernelspec": {
   "display_name": "Python 3",
   "language": "python",
   "name": "python3"
  },
  "language_info": {
   "codemirror_mode": {
    "name": "ipython",
    "version": 3
   },
   "file_extension": ".py",
   "mimetype": "text/x-python",
   "name": "python",
   "nbconvert_exporter": "python",
   "pygments_lexer": "ipython3",
   "version": "3.5.2"
  }
 },
 "nbformat": 4,
 "nbformat_minor": 2
}
