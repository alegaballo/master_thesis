{
 "cells": [
  {
   "cell_type": "code",
   "execution_count": 1,
   "metadata": {
    "collapsed": true
   },
   "outputs": [],
   "source": [
    "import numpy as np\n",
    "import sys\n",
    "import os\n",
    "import re\n",
    "from collections import Counter"
   ]
  },
  {
   "cell_type": "code",
   "execution_count": 2,
   "metadata": {
    "scrolled": false
   },
   "outputs": [
    {
     "name": "stdout",
     "output_type": "stream",
     "text": [
      "retest_loss_20\n",
      "retest_loss_15\n",
      "retest_loss_10\n",
      "retest_loss_0\n"
     ]
    }
   ],
   "source": [
    "stats = {}\n",
    "for pred in os.listdir('./'):\n",
    "    if 'retest' in pred:\n",
    "        print(pred)\n",
    "        stats[pred]=[]\n",
    "        with open(pred, 'r') as f:\n",
    "            lines = f.readlines()\n",
    "        for i in range(0, len(lines), 3):\n",
    "            counter = re.sub('[\\[\\]]','', lines[i].strip()).split()\n",
    "            counter = [int(c) for c in counter]\n",
    "            prediction = lines[i+1].strip().split(':')[1]\n",
    "            ospf = lines[i+2].strip()\n",
    "            stats[pred].append([counter, prediction, ospf])\n",
    "    "
   ]
  },
  {
   "cell_type": "code",
   "execution_count": 3,
   "metadata": {
    "scrolled": true
   },
   "outputs": [
    {
     "name": "stdout",
     "output_type": "stream",
     "text": [
      "retest_loss_10 ospf:['r1', 'r2', 'r3']\n",
      "Counter({\"['r1', 'ri2', 'r3']\": 121, \"['r1', 'r2', 'r3']\": 73, \"['r1', 'ri2', 'ri3', 'r3']\": 4, \"['r1', 'ri2', 'ri1', 'ri4', 'r4', 'r3']\": 2})\n",
      "\n",
      "retest_loss_0 ospf:['r1', 'r2', 'r3']\n",
      "Counter({\"['r1', 'r2', 'r3']\": 114, \"['r1', 'ri2', 'r3']\": 79, \"['r1', 'ri2', 'ri3', 'r3']\": 6, \"['r1', 'r6', 'ri4', 'r4', 'r3']\": 1})\n",
      "\n",
      "retest_loss_15 ospf:['r1', 'r2', 'r3']\n",
      "Counter({\"['r1', 'ri2', 'r3']\": 116, \"['r1', 'r2', 'r3']\": 81, \"['r1', 'ri2', 'ri1', 'ri4', 'r4', 'r3']\": 2, \"['r1', 'ri2', 'ri3', 'r3']\": 1})\n",
      "\n",
      "retest_loss_20 ospf:['r1', 'ri2', 'r3']\n",
      "Counter({\"['r1', 'ri2', 'r3']\": 107, \"['r1', 'r2', 'r3']\": 91, \"['r1', 'ri2', 'ri3', 'r3']\": 1, \"['r1', 'ri2', 'ri1', 'ri4', 'r4', 'r3']\": 1})\n",
      "\n"
     ]
    }
   ],
   "source": [
    "for k,i in stats.items():\n",
    "    predicted_paths = []\n",
    "    print(k, i[0][2])\n",
    "    for x in i:\n",
    "        predicted_paths.append(x[1])\n",
    "    print(Counter(predicted_paths))\n",
    "    print()\n"
   ]
  },
  {
   "cell_type": "markdown",
   "metadata": {},
   "source": []
  }
 ],
 "metadata": {
  "kernelspec": {
   "display_name": "Python 3",
   "language": "python",
   "name": "python3"
  },
  "language_info": {
   "codemirror_mode": {
    "name": "ipython",
    "version": 3
   },
   "file_extension": ".py",
   "mimetype": "text/x-python",
   "name": "python",
   "nbconvert_exporter": "python",
   "pygments_lexer": "ipython3",
   "version": "3.5.2"
  }
 },
 "nbformat": 4,
 "nbformat_minor": 2
}
