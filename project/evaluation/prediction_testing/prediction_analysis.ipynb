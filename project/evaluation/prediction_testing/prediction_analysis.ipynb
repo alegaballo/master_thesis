{
 "cells": [
  {
   "cell_type": "code",
   "execution_count": 1,
   "metadata": {
    "collapsed": true
   },
   "outputs": [],
   "source": [
    "import numpy as np\n",
    "import sys\n",
    "import os\n",
    "import re\n",
    "from collections import Counter\n",
    "import matplotlib.pyplot as plt\n",
    "import seaborn as sns"
   ]
  },
  {
   "cell_type": "code",
   "execution_count": 2,
   "metadata": {
    "scrolled": false
   },
   "outputs": [
    {
     "name": "stdout",
     "output_type": "stream",
     "text": [
      "retest_loss_20\n",
      "retest_loss_15\n",
      "retest_loss_10\n",
      "retest_loss_0\n"
     ]
    }
   ],
   "source": [
    "stats = {}\n",
    "for pred in os.listdir('./'):\n",
    "    if 'retest' in pred:\n",
    "        print(pred)\n",
    "        stats[pred]=[]\n",
    "        with open(pred, 'r') as f:\n",
    "            lines = f.readlines()\n",
    "        for i in range(0, len(lines), 3):\n",
    "            counter = re.sub('[\\[\\]]','', lines[i].strip()).split()\n",
    "            counter = [int(c) for c in counter]\n",
    "            prediction = lines[i+1].strip().split(':')[1]\n",
    "            ospf = lines[i+2].strip()\n",
    "            stats[pred].append([counter, prediction, ospf])\n",
    "    "
   ]
  },
  {
   "cell_type": "code",
   "execution_count": 3,
   "metadata": {
    "scrolled": true
   },
   "outputs": [
    {
     "name": "stdout",
     "output_type": "stream",
     "text": [
      "retest_loss_10 ospf:['r1', 'r2', 'r3']\n",
      "Counter({\"['r1', 'ri2', 'r3']\": 121, \"['r1', 'r2', 'r3']\": 73, \"['r1', 'ri2', 'ri3', 'r3']\": 4, \"['r1', 'ri2', 'ri1', 'ri4', 'r4', 'r3']\": 2})\n",
      "\n",
      "retest_loss_15 ospf:['r1', 'r2', 'r3']\n",
      "Counter({\"['r1', 'ri2', 'r3']\": 116, \"['r1', 'r2', 'r3']\": 81, \"['r1', 'ri2', 'ri1', 'ri4', 'r4', 'r3']\": 2, \"['r1', 'ri2', 'ri3', 'r3']\": 1})\n",
      "\n",
      "retest_loss_20 ospf:['r1', 'ri2', 'r3']\n",
      "Counter({\"['r1', 'ri2', 'r3']\": 107, \"['r1', 'r2', 'r3']\": 91, \"['r1', 'ri2', 'ri1', 'ri4', 'r4', 'r3']\": 1, \"['r1', 'ri2', 'ri3', 'r3']\": 1})\n",
      "\n",
      "retest_loss_0 ospf:['r1', 'r2', 'r3']\n",
      "Counter({\"['r1', 'r2', 'r3']\": 114, \"['r1', 'ri2', 'r3']\": 79, \"['r1', 'ri2', 'ri3', 'r3']\": 6, \"['r1', 'r6', 'ri4', 'r4', 'r3']\": 1})\n",
      "\n"
     ]
    }
   ],
   "source": [
    "for k,i in stats.items():\n",
    "    predicted_paths = []\n",
    "    print(k, i[0][2])\n",
    "    for x in i:\n",
    "        predicted_paths.append(x[1])\n",
    "    print(Counter(predicted_paths))\n",
    "    print()\n"
   ]
  },
  {
   "cell_type": "code",
   "execution_count": 4,
   "metadata": {
    "collapsed": true
   },
   "outputs": [],
   "source": [
    "def get_line(x0, y0, x1, y1, log=False):\n",
    "    x = np.linspace(x0, x1, 1000)\n",
    "    x[0]=0\n",
    "    m = (y1-y0)/float(x1-x0)\n",
    "    if log:\n",
    "        y = [np.log(m*x_) for x_ in x]\n",
    "        y[0] = 0\n",
    "    else:\n",
    "        y = [m*x_ for x_ in x]\n",
    "    return x, y"
   ]
  },
  {
   "cell_type": "code",
   "execution_count": 5,
   "metadata": {
    "collapsed": true,
    "scrolled": false
   },
   "outputs": [],
   "source": [
    "# bw = 300.0 #Mbps\n",
    "# traffic = 50000000.0 #Mb\n",
    "# retransmission = [[0.1, 0.05, 0.0365],[0.15, 0.075, 0.060],[0.2, 0.1, 0.091]]\n",
    "\n",
    "# x = [0, 1.5]\n",
    "# y = [0, traffic]\n",
    "\n",
    "# lines = [':', '-', '-.']\n",
    "# positions = [221, 222, 223, 224]\n",
    "# plt.figure(figsize=(15, 12))\n",
    "\n",
    "# for p,losses in enumerate(retransmission):\n",
    "#     plt.subplot(positions[p])\n",
    "#     plt.title('{:}% Link loss'.format(losses[0]*100))\n",
    "#     plt.ylabel('Transmitted data [Mb]')\n",
    "#     plt.xlabel('Transmission time [s]')\n",
    "#     #plt.grid()\n",
    "#     for j,loss in enumerate(losses):\n",
    "#         final_time = traffic/bw * (1+loss)\n",
    "#         x = [0, final_time]\n",
    "#         x, y = get_line(0,0, final_time, traffic)\n",
    "#         plt.plot(x,y, lines[j])        \n",
    "#         plt.legend(['OSPF', 'Equal-cost multipath', 'LSTM'])\n",
    "# # plt.savefig('prediction_cmp_grid.pdf')\n",
    "# plt.show()\n"
   ]
  },
  {
   "cell_type": "code",
   "execution_count": 6,
   "metadata": {},
   "outputs": [
    {
     "data": {
      "image/png": "[encoded data removed]",
      "text/plain": [
       "<matplotlib.figure.Figure at 0x7fd16759dcc0>"
      ]
     },
     "metadata": {},
     "output_type": "display_data"
    }
   ],
   "source": [
    "idx = np.arange(3)\n",
    "x1 = [100, 100, 100]\n",
    "x2 = [103.65, 106.08, 109.1]\n",
    "x3 = [110, 115, 120]\n",
    "\n",
    "ospf_ret = [10, 15, 20]\n",
    "pred_ret = [3.65, 6.08, 9.2]\n",
    "#ecmp = [5, 7.5, 10]\n",
    "\n",
    "sns.set_style('ticks')\n",
    "plt.figure(figsize=(15,7))\n",
    "#plt.title('Retransmission comparison', fontsize=20)\n",
    "plt.xlabel('Loss Rate', fontsize=18)\n",
    "plt.ylabel('Percentage of retransmission %', fontsize=18)\n",
    "#plt.plot((-0.5, 2.5), (100, 100), 'r-', label='No Loss')\n",
    "#plt.bar(idx, x3, width=0.2, label='OSPF')\n",
    "plt.bar(idx-0.1, ospf_ret, width=0.18, label='OSPF')\n",
    "#plt.bar(idx, ecmp, width=0.18,label = 'ECMP')\n",
    "plt.bar(idx + 0.1, pred_ret, width=0.18, label='LSTM')\n",
    "plt.xticks(idx,['10%', '15%', '20%'], fontsize=14)\n",
    "plt.yticks(fontsize=14)\n",
    "plt.legend(fontsize=14)\n",
    "plt.grid(False)\n",
    "sns.despine()\n",
    "plt.savefig('prediction_cmp_bar.eps', transparent=True, format='eps', dpi=500,bbox_inches='tight')\n",
    "plt.show()"
   ]
  },
  {
   "cell_type": "markdown",
   "metadata": {},
   "source": []
  },
  {
   "cell_type": "code",
   "execution_count": null,
   "metadata": {
    "collapsed": true,
    "scrolled": true
   },
   "outputs": [],
   "source": []
  },
  {
   "cell_type": "code",
   "execution_count": null,
   "metadata": {
    "collapsed": true
   },
   "outputs": [],
   "source": []
  },
  {
   "cell_type": "code",
   "execution_count": null,
   "metadata": {
    "collapsed": true
   },
   "outputs": [],
   "source": []
  }
 ],
 "metadata": {
  "kernelspec": {
   "display_name": "Python 3",
   "language": "python",
   "name": "python3"
  },
  "language_info": {
   "codemirror_mode": {
    "name": "ipython",
    "version": 3
   },
   "file_extension": ".py",
   "mimetype": "text/x-python",
   "name": "python",
   "nbconvert_exporter": "python",
   "pygments_lexer": "ipython3",
   "version": "3.5.2"
  }
 },
 "nbformat": 4,
 "nbformat_minor": 2
}
