{
 "cells": [
  {
   "cell_type": "code",
   "execution_count": 1,
   "metadata": {
    "collapsed": true
   },
   "outputs": [],
   "source": [
    "import numpy as np\n",
    "import sys\n",
    "import os\n",
    "import re\n",
    "from collections import Counter\n",
    "import matplotlib.pyplot as plt\n",
    "import seaborn as sns"
   ]
  },
  {
   "cell_type": "code",
   "execution_count": 2,
   "metadata": {
    "scrolled": false
   },
   "outputs": [],
   "source": [
    "DEF_PATH = \"['r1', 'r2', 'r3']\"\n",
    "LOSSES =[5, 10, 15] # %\n",
    "\n",
    "# parses the prediction files and group it\n",
    "def path_analysis(filename='retest'):\n",
    "    stats = {}\n",
    "    for pred in os.listdir('./'):\n",
    "        if filename in pred:\n",
    "            stats[pred]=[]\n",
    "            with open(pred, 'r') as f:\n",
    "                lines = f.readlines()\n",
    "            for i in range(0, len(lines), 3):\n",
    "                counter = re.sub('[\\[\\]]','', lines[i].strip()).split()\n",
    "                counter = [int(c) for c in counter]\n",
    "                prediction = lines[i+1].strip().split(':')[1]\n",
    "                ospf = lines[i+2].strip()\n",
    "                stats[pred].append([counter, prediction, ospf])\n",
    "    return stats\n",
    "    "
   ]
  },
  {
   "cell_type": "code",
   "execution_count": 3,
   "metadata": {},
   "outputs": [],
   "source": [
    "# returns a counter of the predicted path in each run\n",
    "def path_counter(stats):\n",
    "    keys = sorted(stats.keys())\n",
    "    path_counter = []\n",
    "    for k in keys:\n",
    "        i = stats[k]\n",
    "        predicted_paths = []\n",
    "        print(k, i[0][2])\n",
    "        for x in i:\n",
    "            predicted_paths.append(x[1])\n",
    "        path_counter.append(Counter(predicted_paths))\n",
    "        print(Counter(predicted_paths))\n",
    "        print()\n",
    "    return path_counter"
   ]
  },
  {
   "cell_type": "code",
   "execution_count": 20,
   "metadata": {},
   "outputs": [],
   "source": [
    "def retransmission_rate(path_counter):\n",
    "    ret_rate = []\n",
    "    for i, cnt in enumerate(path_counter):\n",
    "        ret_rate.append(cnt[DEF_PATH]/200 * LOSSES[i])\n",
    "        if '-1' in cnt.keys():\n",
    "            print('INVALID PATH {:}%'.format(cnt['-1']/float(200)*100))\n",
    "    return ret_rate"
   ]
  },
  {
   "cell_type": "code",
   "execution_count": 21,
   "metadata": {
    "scrolled": false
   },
   "outputs": [
    {
     "name": "stdout",
     "output_type": "stream",
     "text": [
      "retest_loss_05 ospf:['r1', 'r2', 'r3']\n",
      "Counter({\"['r1', 'r2', 'r3']\": 110, \"['r1', 'ri2', 'r3']\": 87, \"['r1', 'ri2', 'ri1', 'ri4', 'r4', 'r3']\": 1, \"['r1', 'ri2', 'ri3', 'r3']\": 1, \"['r1', 'r6', 'ri4', 'r4', 'r3']\": 1})\n",
      "\n",
      "retest_loss_10 ospf:['r1', 'r2', 'r3']\n",
      "Counter({\"['r1', 'ri2', 'r3']\": 121, \"['r1', 'r2', 'r3']\": 73, \"['r1', 'ri2', 'ri3', 'r3']\": 4, \"['r1', 'ri2', 'ri1', 'ri4', 'r4', 'r3']\": 2})\n",
      "\n",
      "retest_loss_15 ospf:['r1', 'r2', 'r3']\n",
      "Counter({\"['r1', 'ri2', 'r3']\": 116, \"['r1', 'r2', 'r3']\": 81, \"['r1', 'ri2', 'ri1', 'ri4', 'r4', 'r3']\": 2, \"['r1', 'ri2', 'ri3', 'r3']\": 1})\n",
      "\n",
      "dnn_05 ospf:['r1', 'r2', 'r3']\n",
      "Counter({\"['r1', 'r2', 'r3']\": 108, '-1': 89, \"['r1', 'r6', 'ri4', 'r4', 'r3']\": 3})\n",
      "\n",
      "dnn_10 ospf:['r1', 'r2', 'r3']\n",
      "Counter({\"['r1', 'r2', 'r3']\": 154, '-1': 42, \"['r1', 'r6', 'ri4', 'r4', 'r3']\": 4})\n",
      "\n",
      "dnn_15 ospf:['r1', 'r2', 'r3']\n",
      "Counter({\"['r1', 'r2', 'r3']\": 120, '-1': 72, \"['r1', 'r6', 'r5', 'r4', 'r3']\": 4, \"['r1', 'r6', 'ri4', 'r4', 'r3']\": 4})\n",
      "\n",
      "INVALID PATH 44.5%\n",
      "INVALID PATH 21.0%\n",
      "INVALID PATH 36.0%\n"
     ]
    }
   ],
   "source": [
    "lstm_stats = path_analysis()\n",
    "lstm_cnt = path_counter(lstm_stats)\n",
    "dnn_stats = path_analysis(filename='dnn')\n",
    "dnn_cnt = path_counter(dnn_stats)\n",
    "lstm_ret_rate = retransmission_rate(lstm_cnt)\n",
    "dnn_ret_rate = retransmission_rate(dnn_cnt)"
   ]
  },
  {
   "cell_type": "code",
   "execution_count": 24,
   "metadata": {},
   "outputs": [
    {
     "name": "stdout",
     "output_type": "stream",
     "text": [
      "[2.7, 7.7, 9.0]\n",
      "[2.75, 3.65, 6.075]\n"
     ]
    }
   ],
   "source": [
    "print(dnn_ret_rate)\n",
    "print(lstm_ret_rate)"
   ]
  },
  {
   "cell_type": "code",
   "execution_count": 23,
   "metadata": {
    "scrolled": false
   },
   "outputs": [
    {
     "name": "stdout",
     "output_type": "stream",
     "text": [
      "INVALID PATH 44.5%\n",
      "INVALID PATH 21.0%\n",
      "INVALID PATH 36.0%\n"
     ]
    },
    {
     "data": {
      "image/png": "[encoded data removed]",
      "text/plain": [
       "<matplotlib.figure.Figure at 0x7f3262949390>"
      ]
     },
     "metadata": {},
     "output_type": "display_data"
    }
   ],
   "source": [
    "idx = np.arange(3)\n",
    "# retransmission rates\n",
    "ospf_ret = [5, 10, 15]\n",
    "ecmp = [2.5, 5, 7.5]\n",
    "\n",
    "lstm_ret_rate = retransmission_rate(lstm_cnt)\n",
    "dnn_ret_rate = retransmission_rate(dnn_cnt)\n",
    "\n",
    "sns.set_style('ticks')\n",
    "plt.figure(figsize=(15,7))\n",
    "#plt.title('Retransmission comparison', fontsize=20)\n",
    "plt.xlabel('Loss Rate', fontsize=18)\n",
    "plt.ylabel('Percentage of retransmission %', fontsize=18)\n",
    "plt.bar(idx-0.3, ospf_ret, width=0.18, label='OSPF')\n",
    "plt.bar(idx-0.1, dnn_ret_rate, width=0.18,label = 'DNN')\n",
    "plt.bar(idx+0.1, ecmp, width=0.18,label = 'ECMP')\n",
    "plt.bar(idx + 0.3, lstm_ret_rate, width=0.18, label='LSTM')\n",
    "plt.xticks(idx,['5%', '10%', '15%'], fontsize=14)\n",
    "plt.yticks(fontsize=14)\n",
    "plt.legend(fontsize=14)\n",
    "plt.grid(False)\n",
    "sns.despine()\n",
    "#plt.savefig('prediction_cmp_bar_ecmp.eps', transparent=True, format='eps', dpi=500,bbox_inches='tight')\n",
    "plt.show()"
   ]
  },
  {
   "cell_type": "markdown",
   "metadata": {},
   "source": []
  },
  {
   "cell_type": "code",
   "execution_count": null,
   "metadata": {
    "scrolled": true
   },
   "outputs": [],
   "source": [
    "x = np.linspace(-3,3)\n",
    "y = np.tanh(x)\n"
   ]
  },
  {
   "cell_type": "code",
   "execution_count": null,
   "metadata": {},
   "outputs": [],
   "source": [
    "plt.figure(figsize=(12,7))\n",
    "plt.axhline(0, color='black',linewidth=1)\n",
    "plt.axhline(1, color='black', linewidth=0.8, ls='dotted')\n",
    "plt.axhline(-1, color='black',linewidth=0.8, ls='dotted')\n",
    "plt.axvline(0, color='black', linewidth=1)\n",
    "sns.despine(left=True, bottom=True)\n",
    "plt.title('Hyperbolic tangent\\n', fontsize=18)\n",
    "plt.yticks(fontsize=14)\n",
    "plt.xticks(fontsize=14)\n",
    "plt.plot(x,y)\n",
    "plt.savefig('/home/alegaballo/Dropbox/tesi-Alessandro/presentation/img/tanh.eps', transparent=True, format='eps', dpi=500,bbox_inches='tight')\n",
    "plt.show()"
   ]
  },
  {
   "cell_type": "code",
   "execution_count": null,
   "metadata": {
    "collapsed": true
   },
   "outputs": [],
   "source": []
  }
 ],
 "metadata": {
  "kernelspec": {
   "display_name": "Python 3",
   "language": "python",
   "name": "python3"
  },
  "language_info": {
   "codemirror_mode": {
    "name": "ipython",
    "version": 3
   },
   "file_extension": ".py",
   "mimetype": "text/x-python",
   "name": "python",
   "nbconvert_exporter": "python",
   "pygments_lexer": "ipython3",
   "version": "3.5.2"
  }
 },
 "nbformat": 4,
 "nbformat_minor": 2
}
