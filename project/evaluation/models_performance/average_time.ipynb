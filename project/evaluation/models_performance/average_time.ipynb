{
 "cells": [
  {
   "cell_type": "code",
   "execution_count": 1,
   "metadata": {
    "collapsed": true
   },
   "outputs": [],
   "source": [
    "import numpy as np"
   ]
  },
  {
   "cell_type": "code",
   "execution_count": 2,
   "metadata": {},
   "outputs": [
    {
     "name": "stdout",
     "output_type": "stream",
     "text": [
      "['layers:', '2,', 'neurons:', '16,'] 418.41520965099335\n",
      "['layers:', '2,', 'neurons:', '32,'] 318.66013288497925\n",
      "['layers:', '2,', 'neurons:', '4,'] 361.2406039237976\n",
      "['layers:', '2,', 'neurons:', '64,'] 349.09198820590973\n",
      "['layers:', '2,', 'neurons:', '8,'] 343.0025475025177\n",
      "['layers:', '4,', 'neurons:', '128,'] 730.6949648857117\n",
      "['layers:', '4,', 'neurons:', '16,'] 816.7480787038803\n",
      "['layers:', '4,', 'neurons:', '32,'] 474.2730852365494\n",
      "['layers:', '4,', 'neurons:', '4,'] 528.3394453525543\n",
      "['layers:', '4,', 'neurons:', '64,'] 578.9638630151749\n",
      "['layers:', '4,', 'neurons:', '8,'] 587.5305457115173\n",
      "['layers:', '6,', 'neurons:', '128,'] 1139.954113960266\n",
      "['layers:', '6,', 'neurons:', '16,'] 1186.4413390159607\n",
      "['layers:', '6,', 'neurons:', '32,'] 755.2504534721375\n",
      "['layers:', '6,', 'neurons:', '4,'] 731.3193536996841\n",
      "['layers:', '6,', 'neurons:', '64,'] 819.0049742460251\n",
      "['layers:', '6,', 'neurons:', '8,'] 973.1381529569626\n",
      "['layers:', '8,', 'neurons:', '128,'] 1376.9695726633072\n",
      "['layers:', '8,', 'neurons:', '16,'] 972.5217941999435\n",
      "['layers:', '8,', 'neurons:', '32,'] 1029.7296419143677\n",
      "['layers:', '8,', 'neurons:', '4,'] 905.1795418262482\n",
      "['layers:', '8,', 'neurons:', '64,'] 1275.548177599907\n",
      "['layers:', '8,', 'neurons:', '8,'] 1979.712646484375\n"
     ]
    }
   ],
   "source": [
    "with open('final', 'r') as f:\n",
    "    lines = f.readlines()\n",
    "lines.sort()\n",
    "\n",
    "time =[0,0]\n",
    "for i,line in enumerate(lines):\n",
    "    time[i%2] = float(line.strip().split(',')[5].split(':')[1].strip())\n",
    "    if not i%2 and i > 0:\n",
    "        line = line.split()[:4]\n",
    "        print(line,sum(time)/len(time))"
   ]
  }
 ],
 "metadata": {
  "kernelspec": {
   "display_name": "Python 3",
   "language": "python",
   "name": "python3"
  },
  "language_info": {
   "codemirror_mode": {
    "name": "ipython",
    "version": 3
   },
   "file_extension": ".py",
   "mimetype": "text/x-python",
   "name": "python",
   "nbconvert_exporter": "python",
   "pygments_lexer": "ipython3",
   "version": "3.5.2"
  }
 },
 "nbformat": 4,
 "nbformat_minor": 2
}
