{
 "cells": [
  {
   "cell_type": "code",
   "execution_count": 1,
   "metadata": {},
   "outputs": [
    {
     "name": "stderr",
     "output_type": "stream",
     "text": [
      "Using TensorFlow backend.\n"
     ]
    }
   ],
   "source": [
    "from keras.models import Sequential\n",
    "from keras.layers import Dense, Recurrent, BatchNormalization, LSTM\n",
    "from pandas import DataFrame\n",
    "import numpy as np\n",
    "import matplotlib.pyplot as plt\n",
    "\n",
    "import os\n",
    "from sklearn.model_selection import train_test_split\n",
    "\n",
    "\n",
    "MODEL_DIR = './project/models/'"
   ]
  },
  {
   "cell_type": "code",
   "execution_count": 2,
   "metadata": {
    "collapsed": true
   },
   "outputs": [],
   "source": [
    "def print_samples(x, y, n=10):\n",
    "    higher = len(x)\n",
    "    print(higher)\n",
    "    for i in range(n):\n",
    "        j = np.random.randint(0, higher)\n",
    "        print(x[j], y[j])"
   ]
  },
  {
   "cell_type": "code",
   "execution_count": 3,
   "metadata": {
    "collapsed": true
   },
   "outputs": [],
   "source": [
    "def split_data(x, y, ratio=0.2):\n",
    "    # converting to numpy array\n",
    "    x = np.array(x)\n",
    "    y = np.array(y)\n",
    "    \n",
    "    # splitting dataset in training and testing\n",
    "    x_train, x_test, y_train, y_test = train_test_split(x, y, test_size = ratio)\n",
    "    return x_train, y_train, x_test, y_test\n",
    "\n",
    "def build_model(x_train, y_train, x_test, y_test, hidden_layers=2, neurons=32, epochs=10, plot=True):\n",
    "\n",
    "    model = Sequential()\n",
    "    # model.add(Dense(64, input_shape = (1, 10)))\n",
    "    for i in range(hidden_layers - 1):\n",
    "        model.add(LSTM(neurons, return_sequences = True, input_shape=(1,10)))\n",
    "    model.add(LSTM(neurons))\n",
    "    \n",
    "    model.add(Dense(10, activation='sigmoid'))\n",
    "\n",
    "    model.compile(loss='binary_crossentropy',\n",
    "                  optimizer='adam',\n",
    "    metrics=['accuracy'])\n",
    "\n",
    "    # default batch size = 32\n",
    "    history = model.fit(x_train.reshape(len(x_train),1,10), y_train, validation_split=0.15, epochs=epochs, verbose=0) \n",
    "    if plot:\n",
    "        print(history.history.keys())\n",
    "        plt.figure(figsize=(15, 5))\n",
    "        #  \"Accuracy\"\n",
    "        plt.subplot(121)\n",
    "        plt.plot(history.history['acc'])\n",
    "        plt.plot(history.history['val_acc'])\n",
    "        plt.title('model accuracy')\n",
    "        plt.ylabel('accuracy')\n",
    "        plt.xlabel('epoch')\n",
    "        plt.legend(['train', 'validation'], loc='upper left')\n",
    "        # \"Loss\"\n",
    "        plt.subplot(122)\n",
    "        plt.plot(history.history['loss'])\n",
    "        plt.plot(history.history['val_loss'])\n",
    "        plt.title('model loss')\n",
    "        plt.ylabel('loss')\n",
    "        plt.xlabel('epoch')\n",
    "        plt.legend(['train', 'validation'], loc='upper left')\n",
    "        plt.show()\n",
    "        \n",
    "#     print('Evaluating model')\n",
    "    metrics = model.evaluate(x_test.reshape(len(x_test), 1,10), y_test, verbose=0)\n",
    "#     print('\\n')\n",
    "    with open('./model_cmp.txt', 'a+') as model_f:\n",
    "        model_f.write('Number of hidden layers: {:}, number of neurons: {:}, number of epochs: {:}'\n",
    "                .format(hidden_layers, neurons, epochs))\n",
    "        for i in range(len(model.metrics_names)):\n",
    "            model_f.write(\" \" + str(model.metrics_names[i]) + \": \" + str(metrics[i]))\n",
    "        model_f.write('\\n')\n"
   ]
  },
  {
   "cell_type": "code",
   "execution_count": 4,
   "metadata": {},
   "outputs": [
    {
     "name": "stdout",
     "output_type": "stream",
     "text": [
      "r2_172_168_4_2\n"
     ]
    }
   ],
   "source": [
    "layers = [2, 4, 6, 8]\n",
    "neurons = [4, 8, 16, 32, 64, 128]\n",
    "epochs = [4, 8, 16, 32, 64]\n",
    "\n",
    "for target in os.listdir(MODEL_DIR):\n",
    "    path = os.path.join(MODEL_DIR, target)\n",
    "    print(target)\n",
    "    for router in os.listdir(path):\n",
    "        model = os.path.join(path, router)\n",
    "        x = []\n",
    "        y = []\n",
    "        for dataset in os.listdir(model):\n",
    "            file = os.path.join(model, dataset)\n",
    "            with open(file, 'r') as f:\n",
    "                lines = f.readlines()\n",
    "            for line in lines:    \n",
    "                cnt, label = line.split(',')\n",
    "                cnt = np.array([int(c) for c in cnt.split()[1:]], dtype=np.int)\n",
    "                label = np.array([int(l) for l in label.split()], dtype=np.int)\n",
    "                x.append(cnt)\n",
    "                y.append(label)\n",
    "        \n",
    "        x_t, y_t, x_ts, y_ts = split_data(x, y)\n",
    "        for layer in layers:\n",
    "            for neuron in neurons:\n",
    "                for epoch in epochs:\n",
    "                    build_model(x_t, y_t, x_ts, y_ts, neurons=neuron, hidden_layers=layer, epochs=epoch, plot = False)\n",
    "\n",
    "        break\n",
    "    break"
   ]
  },
  {
   "cell_type": "code",
   "execution_count": null,
   "metadata": {
    "collapsed": true
   },
   "outputs": [],
   "source": []
  }
 ],
 "metadata": {
  "kernelspec": {
   "display_name": "Python 3",
   "language": "python",
   "name": "python3"
  },
  "language_info": {
   "codemirror_mode": {
    "name": "ipython",
    "version": 3
   },
   "file_extension": ".py",
   "mimetype": "text/x-python",
   "name": "python",
   "nbconvert_exporter": "python",
   "pygments_lexer": "ipython3",
   "version": "3.5.2"
  }
 },
 "nbformat": 4,
 "nbformat_minor": 2
}
